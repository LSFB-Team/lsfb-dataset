{
 "cells": [
  {
   "cell_type": "markdown",
   "metadata": {
    "collapsed": false
   },
   "source": [
    "# Download the LSFB dataset\n",
    "\n",
    "The DatasetDownloader class provides an easy interface for downloading the lsfb dataset. \n",
    "\n",
    "By default, the downloader will download the pose and hands mediapipe landmarks for the lsfb-isol dataset."
   ]
  },
  {
   "cell_type": "code",
   "execution_count": null,
   "metadata": {
    "collapsed": false,
    "pycharm": {
     "name": "#%%\n"
    }
   },
   "outputs": [],
   "source": [
    "from lsfb_dataset.utils.download.dataset_downloader import DatasetDownloader\n",
    "\n",
    "downloader = DatasetDownloader(\"../data\", verbose=False)\n",
    "downloader.download()\n"
   ]
  },
  {
   "cell_type": "markdown",
   "metadata": {},
   "source": [
    "## Downloading the videos\n",
    "\n",
    "You can easily download the raw video by using the `include video` flag."
   ]
  },
  {
   "cell_type": "code",
   "execution_count": 2,
   "metadata": {},
   "outputs": [
    {
     "name": "stderr",
     "output_type": "stream",
     "text": [
      "  1%|          | 1217/97471 [07:42<13:47:20,  1.94it/s]"
     ]
    }
   ],
   "source": [
    "from lsfb_dataset.utils.download.dataset_downloader import DatasetDownloader\n",
    "\n",
    "downloader = DatasetDownloader(\"../data\", include_video=True ,verbose=False)\n",
    "downloader.download()"
   ]
  }
 ],
 "metadata": {
  "kernelspec": {
   "display_name": "Python 3.10.7 ('virtualenv': venv)",
   "language": "python",
   "name": "python3"
  },
  "language_info": {
   "codemirror_mode": {
    "name": "ipython",
    "version": 3
   },
   "file_extension": ".py",
   "mimetype": "text/x-python",
   "name": "python",
   "nbconvert_exporter": "python",
   "pygments_lexer": "ipython3",
   "version": "3.10.7"
  },
  "vscode": {
   "interpreter": {
    "hash": "bd1306efa7ba918e7cfa86cf7289feef87afcee4fc64415b93fb5735545eb135"
   }
  }
 },
 "nbformat": 4,
 "nbformat_minor": 0
}
