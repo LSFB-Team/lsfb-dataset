{
 "cells": [
  {
   "cell_type": "code",
   "execution_count": null,
   "outputs": [],
   "source": [
    "import pandas as pd\n",
    "from os import path\n",
    "import torch\n",
    "from torch.utils.data import DataLoader\n",
    "from fastai.losses import FocalLoss\n",
    "\n",
    "from lsfb_dataset.datasets.lsfb_cont.skeleton_landmarks import SkeletonLandmarksWindowedDataset\n",
    "from lsfb_dataset.utils.logger import init_root_logger\n",
    "from lsfb_dataset.utils.training import train_rnn_model\n",
    "from lsfb_dataset.models import LSTMClassifier"
   ],
   "metadata": {
    "collapsed": false,
    "pycharm": {
     "name": "#%%\n"
    }
   }
  },
  {
   "cell_type": "markdown",
   "source": [
    "# Load information about the videos"
   ],
   "metadata": {
    "collapsed": false
   }
  },
  {
   "cell_type": "code",
   "execution_count": null,
   "metadata": {
    "collapsed": true
   },
   "outputs": [],
   "source": [
    "root = 'T:/datasets/lsfb_cont'\n",
    "df_videos = pd.read_csv(path.join(root, 'videos.csv'))\n",
    "df_videos.dropna(inplace=True)\n",
    "df_videos.head()"
   ]
  },
  {
   "cell_type": "code",
   "execution_count": null,
   "outputs": [],
   "source": [
    "seed = 1548621\n",
    "torch.manual_seed(seed)\n",
    "\n",
    "df_train = df_videos.sample(frac=0.7, random_state=seed)\n",
    "df_val = df_videos.drop(index=df_train.index)\n",
    "\n",
    "df_train.shape, df_val.shape"
   ],
   "metadata": {
    "collapsed": false,
    "pycharm": {
     "name": "#%%\n"
    }
   }
  },
  {
   "cell_type": "markdown",
   "source": [
    "# Load the upper skeletons dataset"
   ],
   "metadata": {
    "collapsed": false
   }
  },
  {
   "cell_type": "code",
   "execution_count": null,
   "outputs": [],
   "source": [
    "datasets = {\n",
    "    x: SkeletonLandmarksWindowedDataset(root, df_train if x == 'train' else df_val, isolate_transitions=True)\n",
    "    for x in ['train', 'val']\n",
    "}\n",
    "\n",
    "data_loaders = {x: DataLoader(datasets[x], shuffle=True, batch_size=10) for x in ['train', 'val']}"
   ],
   "metadata": {
    "collapsed": false,
    "pycharm": {
     "name": "#%%\n"
    }
   }
  },
  {
   "cell_type": "markdown",
   "source": [
    "# Train a LSTM with this dataset"
   ],
   "metadata": {
    "collapsed": false
   }
  },
  {
   "cell_type": "code",
   "execution_count": null,
   "outputs": [],
   "source": [
    "def launch_training(model, model_name, num_classes, epoch_nb):\n",
    "    class_weights = torch.Tensor(datasets['train'].class_weights).cuda()\n",
    "    criterion = FocalLoss(weight=class_weights, gamma=2.0)\n",
    "    optimizer = torch.optim.SGD(model.parameters(), lr=0.01, weight_decay=0.0001, momentum=0.9, nesterov=True)\n",
    "\n",
    "    init_root_logger(f'{model_name}.log', stdout=True)\n",
    "\n",
    "    out_model, (last_model_state, best_model_state), (train_metrics, val_metrics) = train_rnn_model(model, criterion, optimizer, data_loaders, num_epochs=epoch_nb, num_classes=num_classes)\n",
    "\n",
    "    torch.save({\n",
    "        'last_model': last_model_state,\n",
    "        'best_model': best_model_state,\n",
    "        'criterion': criterion.state_dict(),\n",
    "        'optimizer': optimizer.state_dict(),\n",
    "        'train_metrics': train_metrics.state_dict(),\n",
    "        'val_metrics': val_metrics.state_dict(),\n",
    "    }, f'{model_name}.model')"
   ],
   "metadata": {
    "collapsed": false,
    "pycharm": {
     "name": "#%%\n"
    }
   }
  },
  {
   "cell_type": "code",
   "execution_count": null,
   "outputs": [],
   "source": [
    "input_size = 46\n",
    "hidden_size = 256\n",
    "num_classes = 3\n",
    "\n",
    "model = LSTMClassifier(input_size, hidden_size, num_classes)\n",
    "\n",
    "launch_training(model, 'LSTM_EXAMPLE', num_classes, epoch_nb=10)"
   ],
   "metadata": {
    "collapsed": false,
    "pycharm": {
     "name": "#%%\n"
    }
   }
  }
 ],
 "metadata": {
  "kernelspec": {
   "display_name": "Python 3",
   "language": "python",
   "name": "python3"
  },
  "language_info": {
   "codemirror_mode": {
    "name": "ipython",
    "version": 2
   },
   "file_extension": ".py",
   "mimetype": "text/x-python",
   "name": "python",
   "nbconvert_exporter": "python",
   "pygments_lexer": "ipython2",
   "version": "2.7.6"
  }
 },
 "nbformat": 4,
 "nbformat_minor": 0
}