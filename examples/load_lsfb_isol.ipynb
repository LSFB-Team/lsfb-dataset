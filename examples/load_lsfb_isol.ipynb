{
 "cells": [
  {
   "cell_type": "markdown",
   "source": [
    "## Load LSFB ISOL\n",
    "\n",
    "By default, the full dataset is loaded with the landmarks of the pose and the hands."
   ],
   "metadata": {
    "collapsed": false
   }
  },
  {
   "cell_type": "code",
   "execution_count": null,
   "metadata": {
    "collapsed": true
   },
   "outputs": [],
   "source": [
    "from lsfb_dataset import LSFBIsolConfig, LSFBIsolLandmarks\n",
    "\n",
    "dataset = LSFBIsolLandmarks(LSFBIsolConfig(\n",
    "    root=\"./path/to/my/dataset\",\n",
    "))\n",
    "features, target = dataset[0]\n"
   ]
  },
  {
   "cell_type": "markdown",
   "source": [
    "In this example, we only load a subset of the dataset, the train split. You can find it in the folder `./my-dataset/metadata/splits/train.json`.\n",
    "We also indicate which poses we need, and we crop the signs that have more than 50 frames."
   ],
   "metadata": {
    "collapsed": false
   }
  },
  {
   "cell_type": "code",
   "execution_count": null,
   "outputs": [],
   "source": [
    "from lsfb_dataset import LSFBIsolConfig, LSFBIsolLandmarks\n",
    "\n",
    "dataset = LSFBIsolLandmarks(LSFBIsolConfig(\n",
    "    root=\"./path/to/my/dataset\",\n",
    "    landmarks=('pose', 'left_hand', 'right_hand'),\n",
    "    split='train',\n",
    "    sequence_max_length=50,\n",
    "    show_progress=True,\n",
    "))\n",
    "features, target = dataset[0]\n",
    "{pose: features[pose].shape for pose in features}, target"
   ],
   "metadata": {
    "collapsed": false
   }
  },
  {
   "cell_type": "markdown",
   "source": [
    "Here's another example where we provide additional arguments to use 3d landmarks, to only use the 400 more frequent signs (400 labels) and to return the index of the label instead of the sign gloss."
   ],
   "metadata": {
    "collapsed": false
   }
  },
  {
   "cell_type": "code",
   "execution_count": null,
   "outputs": [],
   "source": [
    "from lsfb_dataset import LSFBIsolConfig, LSFBIsolLandmarks\n",
    "\n",
    "dataset = LSFBIsolLandmarks(LSFBIsolConfig(\n",
    "    root=\"./path/to/my/dataset\",\n",
    "    split='fold_3',\n",
    "    sequence_max_length=50,\n",
    "    use_3d=True,\n",
    "    n_labels=400,\n",
    "    target='sign_index',\n",
    "))\n",
    "features, target = dataset[0]\n"
   ],
   "metadata": {
    "collapsed": false
   }
  },
  {
   "cell_type": "markdown",
   "source": [
    "## If you don't have enough RAM\n",
    "\n",
    "You can also use the generator class to lazy-load the instances instead of loading all of them into memory. It is useful if you don't have enough memory to store the entirety of the dataset into your RAM."
   ],
   "metadata": {
    "collapsed": false
   }
  },
  {
   "cell_type": "code",
   "execution_count": null,
   "outputs": [],
   "source": [
    "from lsfb_dataset import LSFBIsolConfig, LSFBIsolLandmarksGenerator\n",
    "\n",
    "dataset = LSFBIsolLandmarksGenerator(LSFBIsolConfig(\n",
    "    root=\"./path/to/my/dataset\",\n",
    "))\n",
    "features, target = dataset[0]"
   ],
   "metadata": {
    "collapsed": false
   }
  }
 ],
 "metadata": {
  "kernelspec": {
   "display_name": "Python 3",
   "language": "python",
   "name": "python3"
  },
  "language_info": {
   "codemirror_mode": {
    "name": "ipython",
    "version": 2
   },
   "file_extension": ".py",
   "mimetype": "text/x-python",
   "name": "python",
   "nbconvert_exporter": "python",
   "pygments_lexer": "ipython2",
   "version": "2.7.6"
  }
 },
 "nbformat": 4,
 "nbformat_minor": 0
}
