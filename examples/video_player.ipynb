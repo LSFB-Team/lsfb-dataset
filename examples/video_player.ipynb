{
 "cells": [
  {
   "cell_type": "markdown",
   "metadata": {
    "collapsed": false
   },
   "source": [
    "# Load a video from the CSV file"
   ]
  },
  {
   "cell_type": "code",
   "execution_count": 7,
   "metadata": {
    "collapsed": false,
    "pycharm": {
     "name": "#%%\n"
    }
   },
   "outputs": [
    {
     "data": {
      "text/plain": [
       "filename                                               CLSFBI0209A_S003_B.mp4\n",
       "category                                                        CLSFB - 02 ok\n",
       "relative_path                     videos\\CLSFB - 02 ok\\CLSFBI0209A_S003_B.mp4\n",
       "file_found                                                               True\n",
       "frames_nb                                                              4960.0\n",
       "duration                                                              99200.0\n",
       "right_hand_annotations      features\\annotations\\CLSFB - 02 ok\\CLSFBI0209A...\n",
       "left_hand_annotations       features\\annotations\\CLSFB - 02 ok\\CLSFBI0209A...\n",
       "face_landmarks              features\\landmarks\\CLSFB - 02 ok\\CLSFBI0209A_S...\n",
       "pose_landmarks              features\\landmarks\\CLSFB - 02 ok\\CLSFBI0209A_S...\n",
       "hands_landmarks             features\\landmarks\\CLSFB - 02 ok\\CLSFBI0209A_S...\n",
       "holistic_landmarks          features\\landmarks\\CLSFB - 02 ok\\CLSFBI0209A_S...\n",
       "holistic_landmarks_clean    features\\landmarks\\CLSFB - 02 ok\\CLSFBI0209A_S...\n",
       "Name: 28, dtype: object"
      ]
     },
     "execution_count": 7,
     "metadata": {},
     "output_type": "execute_result"
    }
   ],
   "source": [
    "import pandas as pd\n",
    "from os import path\n",
    "\n",
    "root_dir = 'T:/datasets/lsfb_cont'\n",
    "\n",
    "df_videos = pd.read_csv(path.join(root_dir, 'videos.csv'))\n",
    "df_videos = df_videos.dropna()\n",
    "video = df_videos.iloc[16]\n",
    "video"
   ]
  },
  {
   "cell_type": "markdown",
   "metadata": {
    "collapsed": false
   },
   "source": [
    "# Video player 1 - Holistic features and annotations\n",
    "\n",
    "The video player can show features associated with a specific video. This example shows holistic features (hands and face) with annotations (right hand and left hand)."
   ]
  },
  {
   "cell_type": "code",
   "execution_count": 8,
   "metadata": {
    "collapsed": true,
    "pycharm": {
     "name": "#%%\n"
    }
   },
   "outputs": [],
   "source": [
    "from lsfb_dataset.visualisation.video import VideoPlayer\n",
    "\n",
    "player = VideoPlayer(path.join(root_dir, video['relative_path']))\n",
    "player.attach_holistic_features(path.join(root_dir, video['holistic_landmarks_clean']))\n",
    "player.attach_annotations(path.join(root_dir, video['right_hand_annotations']), hand='right')\n",
    "player.attach_annotations(path.join(root_dir, video['left_hand_annotations']), hand='left')\n",
    "player.show_landmarks(True)\n",
    "player.show_boxes(True)\n",
    "player.show_duration(True)\n",
    "\n",
    "player.play()"
   ]
  },
  {
   "cell_type": "markdown",
   "metadata": {
    "collapsed": false
   },
   "source": [
    "# Video player 2 - Landmarks\n",
    "\n",
    "This example show the ability of the video player to display landmarks. Those used in the example are raw landmarks computed with MediaPipe."
   ]
  },
  {
   "cell_type": "code",
   "execution_count": 9,
   "metadata": {
    "collapsed": false,
    "pycharm": {
     "name": "#%%\n"
    }
   },
   "outputs": [],
   "source": [
    "from lsfb_dataset.visualisation.video import VideoPlayer\n",
    "\n",
    "another_player = VideoPlayer(path.join(root_dir, video['relative_path']))\n",
    "another_player.attach_pose_landmarks(path.join(root_dir, video['pose_landmarks']))\n",
    "another_player.attach_hands_landmarks(path.join(root_dir, video['hands_landmarks']))\n",
    "another_player.attach_face_landmarks(path.join(root_dir, video['face_landmarks']))\n",
    "\n",
    "another_player.play()"
   ]
  }
 ],
 "metadata": {
  "kernelspec": {
   "display_name": "Python 3",
   "language": "python",
   "name": "python3"
  },
  "language_info": {
   "codemirror_mode": {
    "name": "ipython",
    "version": 2
   },
   "file_extension": ".py",
   "mimetype": "text/x-python",
   "name": "python",
   "nbconvert_exporter": "python",
   "pygments_lexer": "ipython2",
   "version": "3.9.9"
  }
 },
 "nbformat": 4,
 "nbformat_minor": 0
}
