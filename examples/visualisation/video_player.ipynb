{
 "cells": [
  {
   "cell_type": "markdown",
   "metadata": {
    "collapsed": false
   },
   "source": [
    "# Load the information about a video"
   ]
  },
  {
   "cell_type": "code",
   "execution_count": 1,
   "metadata": {
    "collapsed": false
   },
   "outputs": [
    {
     "data": {
      "text/plain": "eaf                                                CLSFBI1102.eaf\neaf_path                 annotations/ELAN/CLSFBI11/CLSFBI1102.eaf\neaf_hash                         4ee7c712d1912c7e2e8d45b9657fd07c\nsession                                                        11\nrecord                                                          2\nfilename                                   CLSFBI1102A_S027_B.mp4\nfilepath              videos/CLSFB - 11 ok/CLSFBI1102A_S027_B.mp4\nsigner                                                       S027\nfound                                                        True\nhash                             3ab07c3a5c14b0e8b85f284416653ed0\ndatetime                               2022-09-29 15:41:39.710617\nfps                                                            50\nframes                                                       6064\nduration                                                   121280\nwidth                                                         720\nheight                                                        576\nannots_left       annotations/csv/left/CLSFBI1102A_S027_B.mp4.csv\nannots_right     annotations/csv/right/CLSFBI1102A_S027_B.mp4.csv\nannots_trad     annotations/csv/translation/CLSFBI1102A_S027_B...\npose_raw        features/landmarks/pose_raw/CLSFBI1102A_S027_B...\nhands_raw       features/landmarks/hands_raw/CLSFBI1102A_S027_...\nface_raw        features/landmarks/face_raw/CLSFBI1102A_S027_B...\npose            features/landmarks/pose/CLSFBI1102A_S027_B.mp4...\nhands           features/landmarks/hands/CLSFBI1102A_S027_B.mp...\nface            features/landmarks/face/CLSFBI1102A_S027_B.mp4...\nName: 85, dtype: object"
     },
     "execution_count": 1,
     "metadata": {},
     "output_type": "execute_result"
    }
   ],
   "source": [
    "import pandas as pd\n",
    "from os import path\n",
    "\n",
    "root_dir = 'E:/LSFB/LSFB_CONT'\n",
    "\n",
    "videos = pd.read_csv(path.join(root_dir, 'videos.csv'))\n",
    "videos = videos.dropna()\n",
    "\n",
    "video = videos.iloc[85]\n",
    "video"
   ]
  },
  {
   "cell_type": "markdown",
   "metadata": {
    "collapsed": false
   },
   "source": [
    "# Video player 1 - Video and annotations\n",
    "\n",
    "The video player allows you to load a video and play it directly.\n",
    "You can attach elements like annotations or even landmarks. Each of them appears in its own windows.\n",
    "All data that is provided to the player must be indicated with an absolute file path.\n",
    "\n",
    "You can press SPACE to pause the video or Q to close the player."
   ]
  },
  {
   "cell_type": "code",
   "execution_count": 2,
   "metadata": {
    "collapsed": true
   },
   "outputs": [],
   "source": [
    "from lsfb_dataset.visualisation.video import VideoPlayer\n",
    "\n",
    "player_1 = VideoPlayer(path.join(root_dir, video['filepath']))\n",
    "player_1.attach_annotations(path.join(root_dir, video['annots_left']), hand='left')\n",
    "player_1.attach_annotations(path.join(root_dir, video['annots_right']), hand='right')\n",
    "player_1.show_duration(True)\n",
    "player_1.play()"
   ]
  },
  {
   "cell_type": "markdown",
   "metadata": {
    "collapsed": false
   },
   "source": [
    " # Video player 2 - Landmarks\n",
    "\n",
    "This example shows the ability of the video player to display landmarks on the body of the signer.\n",
    "The player can also open new windows to isolate landmarks or the original video."
   ]
  },
  {
   "cell_type": "code",
   "execution_count": 3,
   "metadata": {
    "collapsed": false
   },
   "outputs": [],
   "source": [
    "from lsfb_dataset.visualisation.video import VideoPlayer\n",
    "\n",
    "player_2 = VideoPlayer(path.join(root_dir, video['filepath']))\n",
    "player_2.attach_pose_landmarks(path.join(root_dir, video['pose']))\n",
    "player_2.attach_hands_landmarks(path.join(root_dir, video['hands']))\n",
    "player_2.attach_face_landmarks(path.join(root_dir, video['face']))\n",
    "\n",
    "player_2.show_duration(False)\n",
    "player_2.isolate_original(True)\n",
    "player_2.isolate_landmarks(True)\n",
    "\n",
    "player_2.play()"
   ]
  },
  {
   "cell_type": "markdown",
   "source": [
    " # Video player 3 - Isolated videos\n",
    "\n",
    "This example shows a short video that shows an isolated sign in the LSFB ISOL dataset.\n",
    "We also show the landmarks and can change the speed of the video to better analyze it."
   ],
   "metadata": {
    "collapsed": false
   }
  },
  {
   "cell_type": "code",
   "execution_count": 4,
   "outputs": [],
   "source": [
    "isol_root_dir = 'E:/LSFB/LSFB_ISOL'\n",
    "\n",
    "isolated_videos = pd.read_csv(path.join(isol_root_dir, 'clips.csv'))\n",
    "isolated_videos = isolated_videos.dropna()\n",
    "isolated_video = isolated_videos.iloc[654]\n",
    "isolated_video\n",
    "\n",
    "player_3 = VideoPlayer(path.join(isol_root_dir, isolated_video['video']))\n",
    "player_3.attach_pose_landmarks(path.join(isol_root_dir, isolated_video['pose']))\n",
    "player_3.attach_hands_landmarks(path.join(isol_root_dir, isolated_video['hands']))\n",
    "player_3.change_speed(0.05)\n",
    "\n",
    "player_3.show_landmarks(True)\n",
    "player_3.show_duration(True)\n",
    "\n",
    "player_3.play()"
   ],
   "metadata": {
    "collapsed": false
   }
  }
 ],
 "metadata": {
  "kernelspec": {
   "display_name": "Python 3",
   "language": "python",
   "name": "python3"
  },
  "language_info": {
   "codemirror_mode": {
    "name": "ipython",
    "version": 2
   },
   "file_extension": ".py",
   "mimetype": "text/x-python",
   "name": "python",
   "nbconvert_exporter": "python",
   "pygments_lexer": "ipython2",
   "version": "3.9.10"
  }
 },
 "nbformat": 4,
 "nbformat_minor": 0
}
