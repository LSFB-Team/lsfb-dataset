{
 "cells": [
  {
   "cell_type": "markdown",
   "source": [
    "## Load LSFB CONT\n",
    "\n",
    "By default, the full dataset is loaded with the landmarks of the pose and the hands.\n"
   ],
   "metadata": {
    "collapsed": false
   }
  },
  {
   "cell_type": "code",
   "execution_count": null,
   "metadata": {
    "collapsed": true
   },
   "outputs": [],
   "source": [
    "from lsfb_dataset import LSFBContConfig, LSFBContLandmarks\n",
    "\n",
    "dataset = LSFBContLandmarks(LSFBContConfig(\n",
    "    root=\"./path/to/my/dataset\",\n",
    "))\n",
    "features, annotations = dataset[0]"
   ]
  },
  {
   "cell_type": "markdown",
   "source": [
    "You can load a subset of the dataset and specify which landmarks you want to load.\n",
    "We also use 400 labels for the 400 more frequent signs. Be careful, when a sign is less frequent, its label will be -1. There is therefore 401 labels."
   ],
   "metadata": {
    "collapsed": false
   }
  },
  {
   "cell_type": "code",
   "execution_count": null,
   "outputs": [],
   "source": [
    "from lsfb_dataset import LSFBContConfig, LSFBContLandmarks\n",
    "\n",
    "dataset = LSFBContLandmarks(LSFBContConfig(\n",
    "    root=\"./path/to/my/dataset\",\n",
    "    split='train',\n",
    "    landmarks=('pose', 'left_hand', 'right_hand'),\n",
    "    n_labels=400,\n",
    "))\n",
    "features, annotations = dataset[0]"
   ],
   "metadata": {
    "collapsed": false
   }
  },
  {
   "cell_type": "markdown",
   "source": [
    "You can use moving windows on the dataset. In this example, we use windows of size 1024 with a stride of 512 frames. We also use frames instead of milliseconds for the sign boundaries."
   ],
   "metadata": {
    "collapsed": false
   }
  },
  {
   "cell_type": "code",
   "execution_count": null,
   "outputs": [],
   "source": [
    "from lsfb_dataset import LSFBContConfig, LSFBContLandmarks\n",
    "\n",
    "dataset = LSFBContLandmarks(LSFBContConfig(\n",
    "    root=\"./path/to/my/dataset\",\n",
    "    split='train',\n",
    "    landmarks=('pose', 'left_hand', 'right_hand'),\n",
    "    n_labels=400,\n",
    "    window=(1024, 512),\n",
    "    segment_unit='frame',\n",
    "))\n",
    "features, annotations = dataset[0]"
   ],
   "metadata": {
    "collapsed": false
   }
  },
  {
   "cell_type": "markdown",
   "source": [
    "## If you don't have enough RAM\n",
    "\n",
    "You can also use the generator class to lazy-load the instances instead of loading all of them into memory. It is useful if you don't have enough memory to store the entirety of the dataset into your RAM."
   ],
   "metadata": {
    "collapsed": false
   }
  },
  {
   "cell_type": "code",
   "execution_count": null,
   "outputs": [],
   "source": [
    "from lsfb_dataset import LSFBContConfig, LSFBContLandmarksGenerator\n",
    "\n",
    "dataset = LSFBContLandmarksGenerator(LSFBContConfig(\n",
    "    root=\"./path/to/my/dataset\",\n",
    "    split='train',\n",
    "    landmarks=('pose', 'left_hand', 'right_hand'),\n",
    "    n_labels=400,\n",
    "    window=(1024, 512),\n",
    "    segment_unit='frame',\n",
    "))\n",
    "features, annotations = dataset[0]"
   ],
   "metadata": {
    "collapsed": false
   }
  }
 ],
 "metadata": {
  "kernelspec": {
   "display_name": "Python 3",
   "language": "python",
   "name": "python3"
  },
  "language_info": {
   "codemirror_mode": {
    "name": "ipython",
    "version": 2
   },
   "file_extension": ".py",
   "mimetype": "text/x-python",
   "name": "python",
   "nbconvert_exporter": "python",
   "pygments_lexer": "ipython2",
   "version": "2.7.6"
  }
 },
 "nbformat": 4,
 "nbformat_minor": 0
}
