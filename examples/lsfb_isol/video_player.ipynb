{
 "cells": [
  {
   "cell_type": "markdown",
   "metadata": {
    "collapsed": false
   },
   "source": [
    "# Load a video from the CSV file"
   ]
  },
  {
   "cell_type": "code",
   "execution_count": 16,
   "metadata": {
    "collapsed": false
   },
   "outputs": [
    {
     "data": {
      "text/plain": "Unnamed: 0                                                  654\nfilename                     CLSFBI1414A_S033_B_11871_11884.mp4\nlemme                                                     AUSSI\nclass                                                         0\nvideo         videos/_AUSSI_/CLSFBI1414A_S033_B_11871_11884.mp4\npose          features/landmarks/_AUSSI_/pose/CLSFBI1414A_S0...\nhands         features/landmarks/_AUSSI_/hands/CLSFBI1414A_S...\nName: 654, dtype: object"
     },
     "execution_count": 16,
     "metadata": {},
     "output_type": "execute_result"
    }
   ],
   "source": [
    "import pandas as pd\n",
    "from os import path\n",
    "\n",
    "root_dir = 'E:/LSFB/LSFB_ISOL'\n",
    "\n",
    "df_videos = pd.read_csv(path.join(root_dir, 'clips.csv'))\n",
    "df_videos = df_videos.dropna()\n",
    "video = df_videos.iloc[654]\n",
    "video"
   ]
  },
  {
   "cell_type": "markdown",
   "metadata": {
    "collapsed": false
   },
   "source": [
    "# Video player 1 - Video and landmarks\n",
    "\n",
    "The video player can show the features associated with a specific video.\n",
    "This example shows a short video that shows an isolated sign in the LSFB ISOL dataset.\n",
    "We also show the landmarks and can change the speed of the video to better analyze it."
   ]
  },
  {
   "cell_type": "code",
   "execution_count": 18,
   "metadata": {
    "collapsed": true
   },
   "outputs": [],
   "source": [
    "from lsfb_dataset.visualisation.video import VideoPlayer\n",
    "\n",
    "player = VideoPlayer(path.join(root_dir, video['video']))\n",
    "player.attach_pose_landmarks(path.join(root_dir, video['pose']))\n",
    "player.attach_hands_landmarks(path.join(root_dir, video['hands']))\n",
    "player.change_speed(0.05)\n",
    "\n",
    "player.show_landmarks(True)\n",
    "player.show_duration(True)\n",
    "\n",
    "player.play()"
   ]
  }
 ],
 "metadata": {
  "kernelspec": {
   "display_name": "Python 3.10.7 64-bit",
   "language": "python",
   "name": "python3"
  },
  "language_info": {
   "codemirror_mode": {
    "name": "ipython",
    "version": 3
   },
   "file_extension": ".py",
   "mimetype": "text/x-python",
   "name": "python",
   "nbconvert_exporter": "python",
   "pygments_lexer": "ipython3",
   "version": "3.10.7"
  },
  "vscode": {
   "interpreter": {
    "hash": "e7370f93d1d0cde622a1f8e1c04877d8463912d04d973331ad4851f04de6915a"
   }
  }
 },
 "nbformat": 4,
 "nbformat_minor": 0
}
