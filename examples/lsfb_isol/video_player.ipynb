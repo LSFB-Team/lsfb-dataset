{
 "cells": [
  {
   "cell_type": "markdown",
   "metadata": {
    "collapsed": false
   },
   "source": [
    "# Load a video from the CSV file"
   ]
  },
  {
   "cell_type": "code",
   "execution_count": 7,
   "metadata": {
    "collapsed": false,
    "pycharm": {
     "name": "#%%\n"
    }
   },
   "outputs": [
    {
     "data": {
      "text/plain": [
       "Unnamed: 0                                                  676\n",
       "filename                     CLSFBI1415A_S033_B_17331_17346.mp4\n",
       "lemme                                                     AUSSI\n",
       "class                                                         0\n",
       "video         videos/_AUSSI_/CLSFBI1415A_S033_B_17331_17346.mp4\n",
       "pose          features/landmarks/_AUSSI_/pose/CLSFBI1415A_S0...\n",
       "hands         features/landmarks/_AUSSI_/hands/CLSFBI1415A_S...\n",
       "Name: 676, dtype: object"
      ]
     },
     "execution_count": 7,
     "metadata": {},
     "output_type": "execute_result"
    }
   ],
   "source": [
    "import pandas as pd\n",
    "from os import path\n",
    "\n",
    "root_dir = '/media/hyperion/sign-language-datasets/LSFB/LSFB_ISOL'\n",
    "\n",
    "df_videos = pd.read_csv(path.join(root_dir, 'clips.csv'))\n",
    "df_videos = df_videos.dropna()\n",
    "video = df_videos.iloc[676]\n",
    "video"
   ]
  },
  {
   "cell_type": "markdown",
   "metadata": {
    "collapsed": false
   },
   "source": [
    "# Video player 1 - Holistic features and annotations\n",
    "\n",
    "The video player can show features associated with a specific video. This example shows holistic features (hands and face) with annotations (right hand and left hand)."
   ]
  },
  {
   "cell_type": "code",
   "execution_count": 8,
   "metadata": {
    "collapsed": true,
    "pycharm": {
     "name": "#%%\n"
    }
   },
   "outputs": [],
   "source": [
    "from lsfb_dataset.visualisation.video import VideoPlayer\n",
    "\n",
    "player = VideoPlayer(path.join(root_dir, video['video']))\n",
    "player.attach_pose_landmarks(path.join(root_dir, video['pose']))\n",
    "player.attach_hands_landmarks(path.join(root_dir, video['hands']))\n",
    "player.change_speed(0.1)\n",
    "\n",
    "player.show_landmarks(True)\n",
    "player.show_boxes(True)\n",
    "player.show_duration(True)\n",
    "\n",
    "player.play()"
   ]
  },
  {
   "cell_type": "markdown",
   "metadata": {
    "collapsed": false
   },
   "source": [
    "# Video player 2 - Landmarks\n",
    "\n",
    "This example show the ability of the video player to display landmarks. Those used in the example are raw landmarks computed with MediaPipe."
   ]
  },
  {
   "cell_type": "code",
   "execution_count": 23,
   "metadata": {
    "collapsed": false,
    "pycharm": {
     "name": "#%%\n"
    }
   },
   "outputs": [
    {
     "name": "stdout",
     "output_type": "stream",
     "text": [
      "Warning : The annotation are too short for the video.\n"
     ]
    }
   ],
   "source": [
    "from lsfb_dataset.visualisation.video import VideoPlayer\n",
    "\n",
    "another_player = VideoPlayer(path.join(root_dir, video['relative_path']))\n",
    "another_player.attach_pose_landmarks(path.join(root_dir, video['pose_landmarks']))\n",
    "another_player.attach_hands_landmarks(path.join(root_dir, video['hands_landmarks']))\n",
    "another_player.attach_face_landmarks(path.join(root_dir, video['face_landmarks']))\n",
    "\n",
    "another_player.play()"
   ]
  }
 ],
 "metadata": {
  "kernelspec": {
   "display_name": "Python 3.10.7 64-bit",
   "language": "python",
   "name": "python3"
  },
  "language_info": {
   "codemirror_mode": {
    "name": "ipython",
    "version": 3
   },
   "file_extension": ".py",
   "mimetype": "text/x-python",
   "name": "python",
   "nbconvert_exporter": "python",
   "pygments_lexer": "ipython3",
   "version": "3.10.7"
  },
  "vscode": {
   "interpreter": {
    "hash": "e7370f93d1d0cde622a1f8e1c04877d8463912d04d973331ad4851f04de6915a"
   }
  }
 },
 "nbformat": 4,
 "nbformat_minor": 0
}
