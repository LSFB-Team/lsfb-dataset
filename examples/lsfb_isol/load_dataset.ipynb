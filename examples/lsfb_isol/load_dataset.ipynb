{
 "cells": [
  {
   "cell_type": "markdown",
   "metadata": {
    "collapsed": false
   },
   "source": [
    "# Load the LSFB_ISOL dataset"
   ]
  },
  {
   "cell_type": "code",
   "execution_count": 2,
   "metadata": {
    "collapsed": false,
    "pycharm": {
     "name": "#%%\n"
    }
   },
   "outputs": [
    {
     "name": "stdout",
     "output_type": "stream",
     "text": [
      "---------- LSFB ISOL DATASET\n",
      "       lemme  count          dir\n",
      "0      AUSSI   5157      _AUSSI_\n",
      "1         LS   4710         _LS_\n",
      "2        OUI   1959        _OUI_\n",
      "3  DIFFERENT   1280  _DIFFERENT_\n",
      "4      SOURD   1267      _SOURD_\n",
      "5      AVOIR   1263      _AVOIR_\n",
      "6       QUOI   1174       _QUOI_\n",
      "7   REGARDER   1166   _REGARDER_\n",
      "8       MAIS   1088       _MAIS_\n",
      "9        NON   1034        _NON_\n",
      "Loading features (pose, hand_left, hand_right) and labels for each isolated sign...\n"
     ]
    },
    {
     "name": "stderr",
     "output_type": "stream",
     "text": [
      "  0%|          | 22/14222 [00:09<1:46:42,  2.22it/s]"
     ]
    }
   ],
   "source": [
    "import pandas as pd\n",
    "from os import path\n",
    "from lsfb_dataset.datasets.lsfb_isol_landmarks import LSFBIsolLandmarks\n",
    "import numpy as np\n",
    "\n",
    "root_dir = '/media/hyperion/sign-language-datasets/LSFB/LSFB_ISOL'\n",
    "\n",
    "ds = LSFBIsolLandmarks(root_dir, lemmes_nb=10)\n",
    "\n",
    "i = 0\n",
    "\n",
    "for X, y in ds:\n",
    "    i += 1\n",
    "    print(X['video'].shape)\n",
    "    print(X['hands_landmarks'].shape)\n",
    "    print(X['pose_landmarks'].shape)\n",
    "    data = np.concatenate((X['hands_landmarks'], X['pose_landmarks'][:, 0:45]), axis=1)\n",
    "    print(data.shape)\n",
    "    print(y)\n",
    "\n",
    "    if i == 10:\n",
    "        break\n"
   ]
  }
 ],
 "metadata": {
  "kernelspec": {
   "display_name": "Python 3.10.7 ('virtualenv': venv)",
   "language": "python",
   "name": "python3"
  },
  "language_info": {
   "codemirror_mode": {
    "name": "ipython",
    "version": 3
   },
   "file_extension": ".py",
   "mimetype": "text/x-python",
   "name": "python",
   "nbconvert_exporter": "python",
   "pygments_lexer": "ipython3",
   "version": "3.10.7"
  },
  "vscode": {
   "interpreter": {
    "hash": "bd1306efa7ba918e7cfa86cf7289feef87afcee4fc64415b93fb5735545eb135"
   }
  }
 },
 "nbformat": 4,
 "nbformat_minor": 0
}
