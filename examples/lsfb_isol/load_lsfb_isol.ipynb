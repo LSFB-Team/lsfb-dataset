{
 "cells": [
  {
   "cell_type": "markdown",
   "source": [
    "# LSFB ISOL Dataset\n",
    "\n",
    "### Load the dataset\n",
    "\n",
    "This example loads all the landmarks into the RAM. You can then fetch any instance at any instant."
   ],
   "metadata": {
    "collapsed": false
   }
  },
  {
   "cell_type": "code",
   "execution_count": 1,
   "metadata": {
    "collapsed": true
   },
   "outputs": [
    {
     "name": "stdout",
     "output_type": "stream",
     "text": [
      "---------- LSFB ISOL DATASET\n",
      "Loading features (hand_right, hand_left, pose) and labels for each isolated sign...\n"
     ]
    },
    {
     "name": "stderr",
     "output_type": "stream",
     "text": [
      "100%|██████████| 10/10 [00:00<00:00, 62.49it/s]"
     ]
    },
    {
     "name": "stdout",
     "output_type": "stream",
     "text": [
      "----------\n",
      "loading time: 0:00:00.192997\n",
      "10\n"
     ]
    },
    {
     "name": "stderr",
     "output_type": "stream",
     "text": [
      "\n"
     ]
    },
    {
     "data": {
      "text/plain": "((27, 130), 3)"
     },
     "execution_count": 1,
     "metadata": {},
     "output_type": "execute_result"
    }
   ],
   "source": [
    "from lsfb_dataset.datasets.lsfb_isol import LSFBIsolConfig, LSFBIsolLandmarks\n",
    "\n",
    "lsfb_isol_root = 'E:/LSFB/LSFB_ISOL'\n",
    "\n",
    "# Simple configuration that load all the landmarks (pose, hands)\n",
    "simple_config = LSFBIsolConfig(\n",
    "    root=lsfb_isol_root,\n",
    ")\n",
    "\n",
    "# More complex configuration that uses more options\n",
    "complete_config = LSFBIsolConfig(\n",
    "    root=lsfb_isol_root,\n",
    "    landmarks=[             # Load these landmarks in this order (130 features)\n",
    "        'hand_right',       # -- 21 landmarks (42 features)\n",
    "        'hand_left',        # -- 21 landmarks (42 features)\n",
    "        'pose',             # -- 23 landmarks (46 features)\n",
    "    ],\n",
    "    split='mini_sample',    # Only load a tiny subset of the dataset\n",
    "    lemmes_nb=10,           # Number of lemmes (lexical signs) to use\n",
    "    show_progress=True,     # Display the progress bar\n",
    ")\n",
    "\n",
    "# Dataset that loads all the landmarks in the RAM\n",
    "dataset = LSFBIsolLandmarks(config=complete_config)\n",
    "print(len(dataset))\n",
    "\n",
    "# Fetch an instance\n",
    "features, target = dataset[8]\n",
    "features.shape, target"
   ]
  },
  {
   "cell_type": "markdown",
   "source": [
    "### Lazy load the landmarks with a generator\n",
    "\n",
    "Having all the landmarks in the RAM enables us to fetch them instantaneously without any major bottleneck.\n",
    "It is useful in Deep Learning where the landmarks loading could slow down the training algorithm.\n",
    "However, in some cases, you don't want to preload all the landmarks into the RAM.\n",
    "Indeed, it takes a lot of RAM (around 5-6GB) and it's a heavy operation.\n",
    "You can then use a generator that load landmarks on the fly."
   ],
   "metadata": {
    "collapsed": false
   }
  },
  {
   "cell_type": "code",
   "execution_count": 2,
   "outputs": [
    {
     "name": "stdout",
     "output_type": "stream",
     "text": [
      "10\n"
     ]
    },
    {
     "data": {
      "text/plain": "((18, 130), 2)"
     },
     "execution_count": 2,
     "metadata": {},
     "output_type": "execute_result"
    }
   ],
   "source": [
    "from lsfb_dataset.datasets.lsfb_isol import LSFBIsolLandmarksGenerator\n",
    "\n",
    "# Dataset that doesn't preload the landmarks\n",
    "dataset = LSFBIsolLandmarksGenerator(config=complete_config)\n",
    "print(len(dataset))\n",
    "\n",
    "# Load an instance\n",
    "features, target = dataset[8]\n",
    "features.shape, target"
   ],
   "metadata": {
    "collapsed": false
   }
  },
  {
   "cell_type": "markdown",
   "source": [
    "### You can visualize your features\n",
    "\n",
    "The library provides plotting functions for the datasets"
   ],
   "metadata": {
    "collapsed": false
   }
  },
  {
   "cell_type": "code",
   "execution_count": 3,
   "outputs": [
    {
     "name": "stdout",
     "output_type": "stream",
     "text": [
      "OUI\n"
     ]
    },
    {
     "data": {
      "text/plain": "<Figure size 512x288 with 1 Axes>",
      "image/png": "[encoded data removed]"
     },
     "metadata": {
      "needs_background": "light"
     },
     "output_type": "display_data"
    }
   ],
   "source": [
    "from lsfb_dataset.visualisation.landmarks import plot_landmarks\n",
    "\n",
    "# Display the landmarks of the 400th frame of the instance\n",
    "plot_landmarks(\n",
    "    landmarks=features[15],\n",
    "    landmark_types=complete_config.landmarks,\n",
    ")\n",
    "print(dataset.labels[target])"
   ],
   "metadata": {
    "collapsed": false
   }
  },
  {
   "cell_type": "code",
   "execution_count": 3,
   "outputs": [],
   "source": [],
   "metadata": {
    "collapsed": false
   }
  }
 ],
 "metadata": {
  "kernelspec": {
   "display_name": "Python 3",
   "language": "python",
   "name": "python3"
  },
  "language_info": {
   "codemirror_mode": {
    "name": "ipython",
    "version": 2
   },
   "file_extension": ".py",
   "mimetype": "text/x-python",
   "name": "python",
   "nbconvert_exporter": "python",
   "pygments_lexer": "ipython2",
   "version": "2.7.6"
  }
 },
 "nbformat": 4,
 "nbformat_minor": 0
}
