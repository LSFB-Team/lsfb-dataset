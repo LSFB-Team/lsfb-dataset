{
 "cells": [
  {
   "cell_type": "markdown",
   "metadata": {
    "collapsed": false
   },
   "source": [
    "# Download the LSFB dataset\n",
    "\n",
    "The LSFB dataset could be downloaded through *HTTP*. The  `lsfb-dataset` package provide a `DatasetDownloader` taking care of the download.\n",
    "\n",
    "## Download LSFB Isol landmarks\n",
    "\n",
    "By default, the downloader will only fetch the landmarks of the lsfb_isol dataset (~5Go).  "
   ]
  },
  {
   "cell_type": "code",
   "execution_count": 1,
   "metadata": {
    "collapsed": false,
    "pycharm": {
     "name": "#%%\n"
    }
   },
   "outputs": [],
   "source": [
    "from lsfb_dataset.utils.download import DatasetDownloader\n",
    "\n",
    "downloader = DatasetDownloader(\"/home/jeromefink/Documents/unamur/signLanguage/Data/lsfb_isol\")\n",
    "downloader.download()\n"
   ]
  },
  {
   "cell_type": "markdown",
   "metadata": {},
   "source": [
    "## Downloading the videos\n",
    "\n",
    "You can easily download the raw video by using the `include video` flag."
   ]
  },
  {
   "cell_type": "code",
   "execution_count": 2,
   "metadata": {},
   "outputs": [
    {
     "name": "stderr",
     "output_type": "stream",
     "text": [
      "  1%|          | 1217/97471 [07:42<13:47:20,  1.94it/s]"
     ]
    }
   ],
   "source": [
    "from lsfb_dataset.utils.download.dataset_downloader import DatasetDownloader\n",
    "\n",
    "downloader = DatasetDownloader(\"../data\", include_video=True ,verbose=False)\n",
    "downloader.download()"
   ]
  }
 ],
 "metadata": {
  "kernelspec": {
   "display_name": "Python 3.10.7 ('virtualenv': venv)",
   "language": "python",
   "name": "python3"
  },
  "language_info": {
   "codemirror_mode": {
    "name": "ipython",
    "version": 3
   },
   "file_extension": ".py",
   "mimetype": "text/x-python",
   "name": "python",
   "nbconvert_exporter": "python",
   "pygments_lexer": "ipython3",
   "version": "3.10.7"
  },
  "vscode": {
   "interpreter": {
    "hash": "8045820782ca801c0994244fd52bfe41f113f17162e99a1e24bedf0c7a1f2548"
   }
  }
 },
 "nbformat": 4,
 "nbformat_minor": 0
}
