{
 "cells": [
  {
   "cell_type": "markdown",
   "metadata": {
    "collapsed": false
   },
   "source": [
    "## Download the LSFB dataset\n",
    "\n",
    "The LSFB dataset could be downloaded through *HTTP*. The  `lsfb-dataset` package provide a `DatasetDownloader` taking care of the download. If the download is interrupted, the downloader contains mechanism allowing to resume it where it stops.\n",
    "\n",
    "### Download lsfb Isol landmarks\n",
    "\n",
    "By default, the downloader will only fetch the landmarks of the lsfb_isol dataset (~5Go). The only mandatory parameter is the destination folder for the dataset."
   ]
  },
  {
   "cell_type": "code",
   "execution_count": 1,
   "metadata": {
    "collapsed": false
   },
   "outputs": [],
   "source": [
    "from lsfb_dataset.utils.download import DatasetDownloader\n",
    "\n",
    "downloader = DatasetDownloader(\"./destination/folder\")\n",
    "downloader.download()\n"
   ]
  },
  {
   "cell_type": "markdown",
   "metadata": {},
   "source": [
    "### Include Videos\n",
    "\n",
    "You can easily download the raw video by using the `include video` flag. Be aware that videos are heavy. The size of the lsfb_isol dataset with videos is around 100Go"
   ]
  },
  {
   "cell_type": "code",
   "execution_count": 2,
   "metadata": {},
   "outputs": [
    {
     "name": "stderr",
     "output_type": "stream",
     "text": [
      "  1%|          | 1217/97471 [07:42<13:47:20,  1.94it/s]"
     ]
    }
   ],
   "source": [
    "from lsfb_dataset.utils.download.dataset_downloader import DatasetDownloader\n",
    "\n",
    "downloader = DatasetDownloader(\"./destination/folder\", include_video=True)\n",
    "downloader.download()"
   ]
  },
  {
   "cell_type": "markdown",
   "metadata": {},
   "source": [
    "### Downloading lsfb cont dataset\n",
    "\n",
    "By default, the lsfb_isol dataset is downloaded. To download the continuous dataset, you need to set the mandatory parameter `dataset`."
   ]
  },
  {
   "cell_type": "code",
   "execution_count": 2,
   "metadata": {},
   "outputs": [
    {
     "name": "stderr",
     "output_type": "stream",
     "text": [
      "100%|██████████| 386/386 [10:09<00:00,  1.58s/it]\n"
     ]
    }
   ],
   "source": [
    "from lsfb_dataset.utils.download.dataset_downloader import DatasetDownloader\n",
    "\n",
    "downloader = DatasetDownloader(\"./destination/folder\", dataset=\"cont\")\n",
    "downloader.download()"
   ]
  },
  {
   "cell_type": "markdown",
   "source": [
    "### Download a subset of the dataset with specific files\n",
    "\n",
    "You can choose to download only a subset of the dataset (train, test and mini_sample).\n",
    "You can also specify which files you want to download. In fact, you can choose which landmarks are downloaded (by default, these are the pose and hands) and choose whether you want raw landmarks (without interpolation and smoothing)."
   ],
   "metadata": {
    "collapsed": false
   }
  },
  {
   "cell_type": "code",
   "execution_count": null,
   "outputs": [],
   "source": [
    "from lsfb_dataset.utils.download.dataset_downloader import DatasetDownloader\n",
    "\n",
    "downloader = DatasetDownloader(\n",
    "    \"./destination/folder\",\n",
    "    dataset=\"cont\",\n",
    "    split='test',\n",
    "    landmarks=['pose', 'hands', 'face'],\n",
    "    include_raw=True,\n",
    "    include_video=False,\n",
    ")\n",
    "downloader.download()"
   ],
   "metadata": {
    "collapsed": false
   }
  }
 ],
 "metadata": {
  "kernelspec": {
   "display_name": "Python 3.10.7 ('virtualenv': venv)",
   "language": "python",
   "name": "python3"
  },
  "language_info": {
   "codemirror_mode": {
    "name": "ipython",
    "version": 3
   },
   "file_extension": ".py",
   "mimetype": "text/x-python",
   "name": "python",
   "nbconvert_exporter": "python",
   "pygments_lexer": "ipython3",
   "version": "3.10.7"
  },
  "vscode": {
   "interpreter": {
    "hash": "8045820782ca801c0994244fd52bfe41f113f17162e99a1e24bedf0c7a1f2548"
   }
  }
 },
 "nbformat": 4,
 "nbformat_minor": 0
}
