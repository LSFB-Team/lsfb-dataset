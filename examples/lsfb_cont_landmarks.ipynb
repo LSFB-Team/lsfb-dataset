{
 "cells": [
  {
   "cell_type": "code",
   "execution_count": 3,
   "metadata": {
    "collapsed": true
   },
   "outputs": [
    {
     "name": "stdout",
     "output_type": "stream",
     "text": [
      "Targets successfully loaded.\n",
      "Loading all landmarks for 10 videos...\n"
     ]
    },
    {
     "name": "stderr",
     "output_type": "stream",
     "text": [
      "100%|██████████| 10/10 [00:13<00:00,  1.38s/it]"
     ]
    },
    {
     "name": "stdout",
     "output_type": "stream",
     "text": [
      "Landmarks successfully loaded.\n"
     ]
    },
    {
     "name": "stderr",
     "output_type": "stream",
     "text": [
      "\n"
     ]
    },
    {
     "data": {
      "text/plain": "((9826, 130), (9826,))"
     },
     "execution_count": 3,
     "metadata": {},
     "output_type": "execute_result"
    }
   ],
   "source": [
    "from lsfb_dataset.datasets import LSFBContLandmarks\n",
    "\n",
    "# # You can use PyTorch if you want.\n",
    "# import torch\n",
    "# from lsfb_dataset.transforms import ToTensor\n",
    "# transform = ToTensor()\n",
    "# target_transform = ToTensor(dtype=torch.long)\n",
    "\n",
    "dataset = LSFBContLandmarks(\n",
    "    root='E:/LSFB/LSFB_CONT/',\n",
    "    split='mini_sample',\n",
    "    landmarks='all',\n",
    "    target='signs',\n",
    "    # transform=transform,\n",
    "    # target_transform=target_transform,\n",
    ")\n",
    "\n",
    "features, target = dataset[0]\n",
    "features.shape, target.shape"
   ]
  },
  {
   "cell_type": "code",
   "execution_count": 4,
   "outputs": [
    {
     "data": {
      "text/plain": "(<Figure size 512x288 with 1 Axes>, <AxesSubplot:>)"
     },
     "execution_count": 4,
     "metadata": {},
     "output_type": "execute_result"
    },
    {
     "data": {
      "text/plain": "<Figure size 512x288 with 1 Axes>",
      "image/png": "[encoded data removed]"
     },
     "metadata": {
      "needs_background": "light"
     },
     "output_type": "display_data"
    }
   ],
   "source": [
    "from lsfb_dataset.visualisation import plot_landmarks\n",
    "\n",
    "plot_landmarks(\n",
    "    features[2500],\n",
    "    landmark_types=['pose', 'hand_left', 'hand_right'],\n",
    ")"
   ],
   "metadata": {
    "collapsed": false
   }
  },
  {
   "cell_type": "code",
   "execution_count": 9,
   "outputs": [
    {
     "data": {
      "text/plain": "(<Figure size 305.988x288 with 1 Axes>, <AxesSubplot:>)"
     },
     "execution_count": 9,
     "metadata": {},
     "output_type": "execute_result"
    },
    {
     "data": {
      "text/plain": "<Figure size 305.988x288 with 1 Axes>",
      "image/png": "[encoded data removed]"
     },
     "metadata": {
      "needs_background": "light"
     },
     "output_type": "display_data"
    }
   ],
   "source": [
    "plot_landmarks(\n",
    "    features[2500, 46:],\n",
    "    landmark_types=['hand_left', 'hand_right'],\n",
    "    refocus=True,\n",
    "    focus_pad=0.02,\n",
    ")"
   ],
   "metadata": {
    "collapsed": false
   }
  },
  {
   "cell_type": "code",
   "execution_count": null,
   "outputs": [],
   "source": [],
   "metadata": {
    "collapsed": false
   }
  }
 ],
 "metadata": {
  "kernelspec": {
   "display_name": "Python 3",
   "language": "python",
   "name": "python3"
  },
  "language_info": {
   "codemirror_mode": {
    "name": "ipython",
    "version": 2
   },
   "file_extension": ".py",
   "mimetype": "text/x-python",
   "name": "python",
   "nbconvert_exporter": "python",
   "pygments_lexer": "ipython2",
   "version": "2.7.6"
  }
 },
 "nbformat": 4,
 "nbformat_minor": 0
}
