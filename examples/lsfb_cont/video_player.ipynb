{
 "cells": [
  {
   "cell_type": "markdown",
   "metadata": {
    "collapsed": false
   },
   "source": [
    "# Load the information about a video"
   ]
  },
  {
   "cell_type": "code",
   "execution_count": 1,
   "metadata": {
    "collapsed": false
   },
   "outputs": [
    {
     "data": {
      "text/plain": "eaf                                                CLSFBI1102.eaf\nsession                                                        11\nrecord                                                          2\nfilename                                   CLSFBI1102A_S027_B.mp4\nfilepath              videos/CLSFB - 11 ok/CLSFBI1102A_S027_B.mp4\nsigner                                                       S027\nfound                                                        True\nhash                             f6c9b53e26479b5243cb60e8180385e1\ndatetime                               2022-09-01 09:19:00.457271\nfps                                                            50\nframes                                                       6064\nduration                                                   121280\nwidth                                                         720\nheight                                                        576\nannots_left       annotations/csv/left/CLSFBI1102A_S027_B.mp4.csv\nannots_right     annotations/csv/right/CLSFBI1102A_S027_B.mp4.csv\nannots_trad     annotations/csv/translation/CLSFBI1102A_S027_B...\npose_raw        features/landmarks/pose_raw/CLSFBI1102A_S027_B...\nhands_raw       features/landmarks/hands_raw/CLSFBI1102A_S027_...\nface_raw        features/landmarks/face_raw/CLSFBI1102A_S027_B...\npose            features/landmarks/pose/CLSFBI1102A_S027_B.mp4...\nhands           features/landmarks/hands/CLSFBI1102A_S027_B.mp...\nface            features/landmarks/face/CLSFBI1102A_S027_B.mp4...\nName: 85, dtype: object"
     },
     "execution_count": 1,
     "metadata": {},
     "output_type": "execute_result"
    }
   ],
   "source": [
    "import pandas as pd\n",
    "from os import path\n",
    "\n",
    "root_dir = 'E:/LSFB/LSFB_CONT'\n",
    "\n",
    "videos = pd.read_csv(path.join(root_dir, 'valid_videos.csv'))\n",
    "videos = videos.dropna()\n",
    "\n",
    "video = videos.iloc[85]\n",
    "video"
   ]
  },
  {
   "cell_type": "markdown",
   "metadata": {
    "collapsed": false
   },
   "source": [
    "# Video player 1 - Video and annotations\n",
    "\n",
    "The video player allows you to load a video and play it directly. You can attach elements like annotations or even landmarks. All data that is provided to the player must be indicated with an absolute file path.\n",
    "\n",
    "You can press SPACE to pause the video or Q to close the player."
   ]
  },
  {
   "cell_type": "code",
   "execution_count": 5,
   "metadata": {
    "collapsed": true
   },
   "outputs": [],
   "source": [
    "from lsfb_dataset.visualisation.video import VideoPlayer\n",
    "\n",
    "player_1 = VideoPlayer(path.join(root_dir, video['filepath']))\n",
    "player_1.attach_annotations(path.join(root_dir, video['annots_left']), hand='left')\n",
    "player_1.attach_annotations(path.join(root_dir, video['annots_right']), hand='right')\n",
    "player_1.show_duration(True)\n",
    "player_1.play()"
   ]
  },
  {
   "cell_type": "markdown",
   "metadata": {
    "collapsed": false
   },
   "source": [
    "# Video player 2 - Landmarks\n",
    "\n",
    "This example show the ability of the video player to display landmarks on the body of the signer.\n",
    "The player can also open new windows to isolate landmarks or the original video."
   ]
  },
  {
   "cell_type": "code",
   "execution_count": 2,
   "metadata": {
    "collapsed": false
   },
   "outputs": [],
   "source": [
    "from lsfb_dataset.visualisation.video import VideoPlayer\n",
    "\n",
    "player_2 = VideoPlayer(path.join(root_dir, video['filepath']))\n",
    "player_2.attach_pose_landmarks(path.join(root_dir, video['pose']))\n",
    "player_2.attach_hands_landmarks(path.join(root_dir, video['hands']))\n",
    "player_2.attach_face_landmarks(path.join(root_dir, video['face']))\n",
    "\n",
    "player_2.show_duration(False)\n",
    "player_2.isolate_original(True)\n",
    "player_2.isolate_landmarks(True)\n",
    "\n",
    "player_2.play()"
   ]
  },
  {
   "cell_type": "markdown",
   "source": [
    "# Video player 3 - Isolated sign\n",
    "\n",
    "This video player can also be used to display an isolated sign instead of a continuous video of an entire discussion. You can also change the speed to better visualize the frames."
   ],
   "metadata": {
    "collapsed": false
   }
  },
  {
   "cell_type": "code",
   "execution_count": 6,
   "outputs": [],
   "source": [
    "from lsfb_dataset.visualisation.video import VideoPlayer\n",
    "\n",
    "player_3 = VideoPlayer('E:/LSFB/LSFB_ISOL/videos/_ADOLESCENCE_/CLSFBI2402A_S050_B_3276_3299.mp4')\n",
    "player_3.attach_pose_landmarks('E:/LSFB/LSFB_ISOL/features/landmarks/_ADOLESCENCE_/pose/CLSFBI2402A_S050_B_3276_3299.csv')\n",
    "player_3.attach_hands_landmarks('E:/LSFB/LSFB_ISOL/features/landmarks/_ADOLESCENCE_/hands/CLSFBI2402A_S050_B_3276_3299.csv')\n",
    "\n",
    "player_3.change_speed(0.05)\n",
    "player_3.play()"
   ],
   "metadata": {
    "collapsed": false
   }
  },
  {
   "cell_type": "code",
   "execution_count": null,
   "outputs": [],
   "source": [],
   "metadata": {
    "collapsed": false
   }
  }
 ],
 "metadata": {
  "kernelspec": {
   "display_name": "Python 3",
   "language": "python",
   "name": "python3"
  },
  "language_info": {
   "codemirror_mode": {
    "name": "ipython",
    "version": 2
   },
   "file_extension": ".py",
   "mimetype": "text/x-python",
   "name": "python",
   "nbconvert_exporter": "python",
   "pygments_lexer": "ipython2",
   "version": "3.9.10"
  }
 },
 "nbformat": 4,
 "nbformat_minor": 0
}
