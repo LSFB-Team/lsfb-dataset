{
 "cells": [
  {
   "cell_type": "markdown",
   "source": [
    "# LSFB CONT Dataset\n",
    "\n",
    "### Load the dataset\n",
    "\n",
    "This example loads all the landmarks into the RAM. You can then fetch any instance at any instant."
   ],
   "metadata": {
    "collapsed": false
   }
  },
  {
   "cell_type": "code",
   "execution_count": 1,
   "metadata": {
    "collapsed": true
   },
   "outputs": [
    {
     "name": "stdout",
     "output_type": "stream",
     "text": [
      "---------- LSFB CONT DATASET\n",
      "Target vectors loaded.\n",
      "Loading landmarks hand_right, hand_left, pose for 10 videos...\n"
     ]
    },
    {
     "name": "stderr",
     "output_type": "stream",
     "text": [
      "100%|██████████| 10/10 [00:07<00:00,  1.39it/s]"
     ]
    },
    {
     "name": "stdout",
     "output_type": "stream",
     "text": [
      "Landmarks loaded.\n",
      "Windows successfully created.\n",
      "124\n"
     ]
    },
    {
     "name": "stderr",
     "output_type": "stream",
     "text": [
      "\n"
     ]
    },
    {
     "data": {
      "text/plain": "((1500, 130), (1500,))"
     },
     "execution_count": 1,
     "metadata": {},
     "output_type": "execute_result"
    }
   ],
   "source": [
    "from lsfb_dataset.datasets.lsfb_cont import LSFBContConfig, LSFBContLandmarks\n",
    "\n",
    "# Where you downloaded the dataset\n",
    "lsfb_cont_root = 'E:/LSFB/LSFB_CONT'\n",
    "\n",
    "# Simple configuration that load all the landmarks (pose, hands)  with a simple binary segmentation as a target\n",
    "simple_config = LSFBContConfig(\n",
    "    root=lsfb_cont_root,\n",
    ")\n",
    "\n",
    "# More complex configuration that uses more options\n",
    "complete_config = LSFBContConfig(\n",
    "    root=lsfb_cont_root,\n",
    "    landmarks=[             # Load these landmarks in this order (130 features)\n",
    "        'hand_right',       # -- 21 landmarks (42 features)\n",
    "        'hand_left',        # -- 21 landmarks (42 features)\n",
    "        'pose',             # -- 23 landmarks (46 features)\n",
    "    ],\n",
    "    split='mini_sample',    # Only load a tiny subset of the dataset\n",
    "    target='signs',         # Use binary segmentation as a target\n",
    "    window=(1500, 1200),    # Use windows (size, stride) instead of the full sequences\n",
    "    show_progress=True,     # Display the progress bar\n",
    ")\n",
    "\n",
    "# Dataset that loads all the landmarks in the RAM\n",
    "dataset = LSFBContLandmarks(config=complete_config)\n",
    "\n",
    "print(len(dataset))\n",
    "\n",
    "# Fetch an instance\n",
    "features, target = dataset[80]\n",
    "features.shape, target.shape"
   ]
  },
  {
   "cell_type": "markdown",
   "source": [
    "### Lazy load the landmarks with a generator\n",
    "\n",
    "Having all the landmarks in the RAM enables us to fetch them instantaneously without any major bottleneck.\n",
    "It is useful in Deep Learning where the landmarks loading could slow down the training algorithm.\n",
    "However, in some cases, you don't want to preload all the landmarks into the RAM.\n",
    "Indeed, it takes a lot of RAM (around 5-6GB) and it's a heavy operation.\n",
    "You can then use a generator that load landmarks on the fly."
   ],
   "metadata": {
    "collapsed": false
   }
  },
  {
   "cell_type": "code",
   "execution_count": 2,
   "outputs": [
    {
     "name": "stdout",
     "output_type": "stream",
     "text": [
      "---------- LSFB CONT DATASET\n",
      "Target vectors loaded.\n",
      "Windows successfully created.\n",
      "124\n"
     ]
    },
    {
     "data": {
      "text/plain": "((1500, 130), (1500,))"
     },
     "execution_count": 2,
     "metadata": {},
     "output_type": "execute_result"
    }
   ],
   "source": [
    "from lsfb_dataset.datasets.lsfb_cont import LSFBContLandmarksGenerator\n",
    "\n",
    "# Dataset that doesn't preload the landmarks\n",
    "dataset = LSFBContLandmarksGenerator(config=complete_config)\n",
    "print(len(dataset))\n",
    "\n",
    "# Load an instance\n",
    "features, target = dataset[80]\n",
    "features.shape, target.shape"
   ],
   "metadata": {
    "collapsed": false
   }
  },
  {
   "cell_type": "markdown",
   "source": [
    "### You can visualize your features and targets\n",
    "\n",
    "The library provides plotting functions for the datasets"
   ],
   "metadata": {
    "collapsed": false
   }
  },
  {
   "cell_type": "code",
   "execution_count": 3,
   "outputs": [
    {
     "data": {
      "text/plain": "(<Figure size 2160x288 with 1 Axes>, <AxesSubplot:>)"
     },
     "execution_count": 3,
     "metadata": {},
     "output_type": "execute_result"
    },
    {
     "data": {
      "text/plain": "<Figure size 512x288 with 1 Axes>",
      "image/png": "[encoded data removed]"
     },
     "metadata": {
      "needs_background": "light"
     },
     "output_type": "display_data"
    },
    {
     "data": {
      "text/plain": "<Figure size 2160x288 with 1 Axes>",
      "image/png": "[encoded data removed]"
     },
     "metadata": {
      "needs_background": "light"
     },
     "output_type": "display_data"
    }
   ],
   "source": [
    "from lsfb_dataset.visualisation.landmarks import plot_landmarks\n",
    "from lsfb_dataset.visualisation.target import plot_binary_segmentation\n",
    "\n",
    "# Display the landmarks of the 400th frame of the instance\n",
    "plot_landmarks(\n",
    "    landmarks=features[400],\n",
    "    landmark_types=complete_config.landmarks,\n",
    ")\n",
    "\n",
    "# Display the target segmentation of the instance\n",
    "plot_binary_segmentation(target)"
   ],
   "metadata": {
    "collapsed": false
   }
  },
  {
   "cell_type": "code",
   "execution_count": 3,
   "outputs": [],
   "source": [],
   "metadata": {
    "collapsed": false
   }
  }
 ],
 "metadata": {
  "kernelspec": {
   "display_name": "Python 3",
   "language": "python",
   "name": "python3"
  },
  "language_info": {
   "codemirror_mode": {
    "name": "ipython",
    "version": 2
   },
   "file_extension": ".py",
   "mimetype": "text/x-python",
   "name": "python",
   "nbconvert_exporter": "python",
   "pygments_lexer": "ipython2",
   "version": "2.7.6"
  }
 },
 "nbformat": 4,
 "nbformat_minor": 0
}
