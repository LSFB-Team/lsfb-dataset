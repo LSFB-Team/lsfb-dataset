{
 "cells": [
  {
   "cell_type": "markdown",
   "metadata": {},
   "source": [
    "## Load LSFB Cont Landmarks\n",
    "\n",
    "lsfb-dataset provides classes allowing you to load the mediapipe landmarks along with the annotation information for each sequence. Two version of the landmarks loader exists :\n",
    "- `LSFBContLandmarks` : An iterator loading all the sequence in memory allowing fast processing but requiring large amount of RAM\n",
    "- `LSFBContLandmarksGenerator` : A generator loading the sequence one by one lowering the footprint in RAM. However, the program will be slower.\n",
    "\n",
    "To adapt the behavior of the loader to your need, the loaders are configurable using the dataclass `LSFBContConfig`. "
   ]
  },
  {
   "cell_type": "code",
   "execution_count": null,
   "metadata": {},
   "outputs": [],
   "source": [
    "from lsfb_dataset.datasets.lsfb_cont import LSFBContConfig\n",
    "\n",
    "dataset_folder = \"path/to/lsfb_cont\"\n",
    "\n"
   ]
  }
 ],
 "metadata": {
  "kernelspec": {
   "display_name": "Python 3.10.7 ('virtualenv': venv)",
   "language": "python",
   "name": "python3"
  },
  "language_info": {
   "name": "python",
   "version": "3.10.7"
  },
  "orig_nbformat": 4,
  "vscode": {
   "interpreter": {
    "hash": "8045820782ca801c0994244fd52bfe41f113f17162e99a1e24bedf0c7a1f2548"
   }
  }
 },
 "nbformat": 4,
 "nbformat_minor": 2
}
